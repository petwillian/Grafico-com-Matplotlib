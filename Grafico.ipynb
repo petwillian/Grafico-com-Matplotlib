{
  "nbformat": 4,
  "nbformat_minor": 0,
  "metadata": {
    "colab": {
      "provenance": []
    },
    "kernelspec": {
      "name": "python3",
      "display_name": "Python 3"
    },
    "language_info": {
      "name": "python"
    }
  },
  "cells": [
    {
      "cell_type": "code",
      "source": [
        "!pip install --upgrade pip setuptools wheel"
      ],
      "metadata": {
        "id": "9BELh4QrrAus",
        "colab": {
          "base_uri": "https://localhost:8080/"
        },
        "outputId": "6fcf4356-6f95-4535-e0b9-87275f981b30"
      },
      "execution_count": null,
      "outputs": [
        {
          "output_type": "stream",
          "name": "stdout",
          "text": [
            "Requirement already satisfied: pip in /usr/local/lib/python3.10/dist-packages (23.1.2)\n",
            "Collecting pip\n",
            "  Downloading pip-24.0-py3-none-any.whl (2.1 MB)\n",
            "\u001b[2K     \u001b[90m━━━━━━━━━━━━━━━━━━━━━━━━━━━━━━━━━━━━━━━━\u001b[0m \u001b[32m2.1/2.1 MB\u001b[0m \u001b[31m10.5 MB/s\u001b[0m eta \u001b[36m0:00:00\u001b[0m\n",
            "\u001b[?25hRequirement already satisfied: setuptools in /usr/local/lib/python3.10/dist-packages (67.7.2)\n",
            "Collecting setuptools\n",
            "  Downloading setuptools-69.0.3-py3-none-any.whl (819 kB)\n",
            "\u001b[2K     \u001b[90m━━━━━━━━━━━━━━━━━━━━━━━━━━━━━━━━━━━━━━━━\u001b[0m \u001b[32m819.5/819.5 kB\u001b[0m \u001b[31m15.6 MB/s\u001b[0m eta \u001b[36m0:00:00\u001b[0m\n",
            "\u001b[?25hRequirement already satisfied: wheel in /usr/local/lib/python3.10/dist-packages (0.42.0)\n"
          ]
        }
      ]
    },
    {
      "cell_type": "code",
      "source": [
        "!pip install matplotlib --prefer-binary"
      ],
      "metadata": {
        "id": "iMEEOzZLrXFu"
      },
      "execution_count": null,
      "outputs": []
    },
    {
      "cell_type": "code",
      "source": [
        "!pip freeze > requirements.txt"
      ],
      "metadata": {
        "id": "6NMBSIMnryYv"
      },
      "execution_count": null,
      "outputs": []
    },
    {
      "cell_type": "markdown",
      "source": [
        "#Grafico 01"
      ],
      "metadata": {
        "id": "RlXDSM0LPTEF"
      }
    },
    {
      "cell_type": "markdown",
      "source": [
        "Grafico 1x1 1 linha e 1 coluna"
      ],
      "metadata": {
        "id": "SAIk4EuAH5_W"
      }
    },
    {
      "cell_type": "code",
      "source": [
        "# passo 1 - importa a biblioteca\n",
        "import matplotlib.pyplot as plt\n",
        "\n",
        "#passo 2 - intanciar o objeto figura\n",
        "fig, ax = plt.subplots() # 1x1\n",
        "\n",
        "#passo 3 - Definir os dados\n",
        "indices = [1,2,3,4]\n",
        "amostra_a = [1,4,2,3]\n",
        "amostra_b = [2,8,4,6]\n",
        "amostra_c = [4,16,8,12]\n",
        "\n",
        "#passo 4 - plotar os dados no axe/eixo(grafico)\n",
        "ax.plot(indices, amostra_a, label=\"Amostra A\", color = 'blue', marker = 'o')\n",
        "ax.plot(indices, amostra_b, label=\"Amostra B\", color = 'green', marker = 'o')\n",
        "ax.plot(indices, amostra_c, label=\"Amostra C\", color = 'red', marker = 'o')\n",
        "\n",
        "# titulo do grafico\n",
        "ax.set_title(\"Titúlo do Gráfico\")\n",
        "\n",
        "# titulo do x\n",
        "ax.set_xlabel(\"Label X\")\n",
        "\n",
        "# titulo y\n",
        "ax.set_ylabel(\"Label y\")\n",
        "\n",
        "# a legenda\n",
        "ax.legend()\n",
        "\n",
        "#passo 5 - apresentar o grafico\n",
        "plt.show()"
      ],
      "metadata": {
        "id": "FDBU9nNsvSN9"
      },
      "execution_count": null,
      "outputs": []
    },
    {
      "cell_type": "markdown",
      "source": [
        "#Grafico 02"
      ],
      "metadata": {
        "id": "opoRGVsIPcoy"
      }
    },
    {
      "cell_type": "markdown",
      "source": [
        "Grafico 1x2, 1 linha 2 coluna"
      ],
      "metadata": {
        "id": "RjZIO9YCIEMj"
      }
    },
    {
      "cell_type": "code",
      "source": [
        "# passo 1 - importa a biblioteca\n",
        "import matplotlib.pyplot as plt\n",
        "\n",
        "#passo 2 - intanciar o objeto figura\n",
        "fig, ax = plt.subplots(1, 2) # 1x2\n",
        "\n",
        "#passo 3 - Definir os dados\n",
        "indices = [1,2,3,4]\n",
        "amostra_a = [1,4,2,3]\n",
        "amostra_b = [2,8,4,6]\n",
        "\n",
        "#passo 4 - plotar os dados no axe/eixo(grafico)\n",
        "ax[0].plot(indices, amostra_a, label=\"Amostra A\", color = 'blue', marker = 'o')\n",
        "ax[1].plot(indices, amostra_b, label=\"Amostra B\", color = 'green', marker = 'o')\n",
        "\n",
        "# titulo do grafico\n",
        "ax[0].set_title(\"Titúlo do Gráfico 0\")\n",
        "ax[1].set_title(\"Titúlo do Gráfico 1\")\n",
        "\n",
        "# titulo do x\n",
        "ax[0].set_xlabel(\"Label X 0\")\n",
        "ax[1].set_xlabel(\"Label X 1\")\n",
        "\n",
        "# titulo y\n",
        "ax[0].set_ylabel(\"Label y 0\")\n",
        "ax[1].set_ylabel(\"Label y 1\")\n",
        "\n",
        "# a legenda\n",
        "ax[0].legend()\n",
        "ax[1].legend()\n",
        "\n",
        "#passo 5 - apresentar o grafico\n",
        "plt.show()"
      ],
      "metadata": {
        "id": "uP7OfsMUIKop"
      },
      "execution_count": null,
      "outputs": []
    },
    {
      "cell_type": "markdown",
      "source": [
        "#Grafico 03"
      ],
      "metadata": {
        "id": "AFRCsGKQPjnu"
      }
    },
    {
      "cell_type": "markdown",
      "source": [
        "Grafico 2x2, 2 linha 2 coluna"
      ],
      "metadata": {
        "id": "mKlft1ObKr8-"
      }
    },
    {
      "cell_type": "code",
      "source": [
        "# passo 1 - importa a biblioteca\n",
        "import matplotlib.pyplot as plt\n",
        "\n",
        "#passo 2 - intanciar o objeto figura\n",
        "fig, ax = plt.subplots(2, 2) # 2x2\n",
        "\n",
        "#passo 3 - Definir os dados\n",
        "indices = [1,2,3,4]\n",
        "amostra_a = [1,4,2,3]\n",
        "amostra_b = [2,8,4,6]\n",
        "amostra_c = [4,16,8,12]\n",
        "amostra_d = [8,32,16,24]\n",
        "\n",
        "#passo 4 - plotar os dados no axe/eixo(grafico)\n",
        "ax[0][0].plot(indices, amostra_a, label=\"Amostra A\", color = 'blue', marker = 'o')\n",
        "ax[0][1].plot(indices, amostra_b, label=\"Amostra B\", color = 'green', marker = 'o')\n",
        "ax[1][0].plot(indices, amostra_c, label=\"Amostra C\", color = 'red', marker = 'o')\n",
        "ax[1][1].plot(indices, amostra_d, label=\"Amostra D\", color = 'yellow', marker = 'o')\n",
        "\n",
        "# titulo do grafico\n",
        "ax[0][0].set_title(\"Titúlo do Gráfico 0x0\")\n",
        "ax[0][1].set_title(\"Titúlo do Gráfico 0x1\")\n",
        "ax[1][0].set_title(\"Titúlo do Gráfico 1x0\")\n",
        "ax[1][1].set_title(\"Titúlo do Gráfico 1x1\")\n",
        "\n",
        "# titulo do eixo x\n",
        "ax[0][0].set_xlabel(\"Label X 0x0\")\n",
        "ax[0][1].set_xlabel(\"Label X 0x1\")\n",
        "ax[1][0].set_xlabel(\"Label X 1x0\")\n",
        "ax[1][1].set_xlabel(\"Label X 1x1\")\n",
        "\n",
        "#ax[1].set_xlabel(\"Label X 1\")\n",
        "\n",
        "# titulo do eixo y\n",
        "ax[0][0].set_ylabel(\"Label y 0x0\")\n",
        "ax[0][1].set_ylabel(\"Label y 0x1\")\n",
        "ax[1][0].set_ylabel(\"Label y 1x0\")\n",
        "ax[1][1].set_ylabel(\"Label y 1x1\")\n",
        "\n",
        "# a legenda\n",
        "ax[0][0].legend()\n",
        "ax[0][1].legend()\n",
        "ax[1][0].legend()\n",
        "ax[1][1].legend()\n",
        "\n",
        "#passo 5 - apresentar o grafico\n",
        "plt.show()"
      ],
      "metadata": {
        "id": "I3r3vtFwJrVV"
      },
      "execution_count": null,
      "outputs": []
    },
    {
      "cell_type": "markdown",
      "source": [
        "Grafico de Barra"
      ],
      "metadata": {
        "id": "GxFlEKdkP1b3"
      }
    },
    {
      "cell_type": "code",
      "source": [
        "import matplotlib.pyplot as plt\n",
        "\n",
        "fig, ax = plt.subplots()\n",
        "\n",
        "frutas = ['Laranja', 'Melancia', 'Manga', 'Jaca']\n",
        "quantidades = [60, 100, 85, 30]\n",
        "\n",
        "ax.bar(frutas, quantidades, label = 'Quantidade')\n",
        "ax.set_xlabel('Frutas')\n",
        "ax.legend()\n",
        "\n",
        "plt.show()"
      ],
      "metadata": {
        "id": "Vmiuoo6yP2Wi"
      },
      "execution_count": null,
      "outputs": []
    },
    {
      "cell_type": "markdown",
      "source": [
        "Grafico de Histograma"
      ],
      "metadata": {
        "id": "jHvVZjShVS1L"
      }
    },
    {
      "cell_type": "code",
      "source": [
        "import matplotlib.pyplot as plt\n",
        "import numpy as np\n",
        "\n",
        "fig, ax = plt.subplots()\n",
        "\n",
        "pesquisa = np.random.normal(170, 10, 250) # 250 dados 10 disvio padrao e 170 valor mediano\n",
        "\n",
        "ax.hist(pesquisa, bins = 8, linewidth = 0.5, edgecolor = '#ffffff')\n",
        "\n",
        "plt.show()"
      ],
      "metadata": {
        "id": "1T8NhhtpP2OA"
      },
      "execution_count": null,
      "outputs": []
    },
    {
      "cell_type": "markdown",
      "source": [
        "Grafico de Pizza"
      ],
      "metadata": {
        "id": "Cg-1viKGXbj3"
      }
    },
    {
      "cell_type": "code",
      "source": [
        "import matplotlib.pyplot as plt\n",
        "\n",
        "fig, ax = plt.subplots()\n",
        "\n",
        "frutas = ['Uva', 'Morango', 'Abacaxi', 'Mamão']\n",
        "porcentagem = [15, 30, 45, 10]\n",
        "\n",
        "ax.pie(porcentagem, labels = frutas, autopct = '%1.2f%%')\n",
        "\n",
        "plt.show()"
      ],
      "metadata": {
        "id": "iY6sZLWkXa-J"
      },
      "execution_count": null,
      "outputs": []
    },
    {
      "cell_type": "markdown",
      "source": [
        "Salvando imagem do grafico"
      ],
      "metadata": {
        "id": "uIydpTq1Zu_B"
      }
    },
    {
      "cell_type": "code",
      "source": [
        "import matplotlib.pyplot as plt\n",
        "from pathlib import Path\n",
        "\n",
        "image_dir = Path.cwd() / 'images'\n",
        "\n",
        "fig, ax = plt.subplots()\n",
        "\n",
        "frutas = ['Uva', 'Morango', 'Abacaxi', 'Mamão']\n",
        "porcentagem = [15, 30, 45, 10]\n",
        "\n",
        "ax.pie(porcentagem, labels = frutas, autopct = '%1.2f%%')\n",
        "\n",
        "fig.savefig(image_dir/'meu_grafico.png')\n",
        "\n",
        "#plt.show()"
      ],
      "metadata": {
        "id": "fnsTJCqwZtUJ"
      },
      "execution_count": null,
      "outputs": []
    },
    {
      "cell_type": "code",
      "source": [
        "import matplotlib.pyplot as plt\n",
        "from pathlib import Path\n",
        "\n",
        "#image_dir = Path.cwd() / 'images'\n",
        "\n",
        "fig, ax = plt.subplots()\n",
        "\n",
        "frutas = ['Uva', 'Morango', 'Abacaxi', 'Mamão']\n",
        "porcentagem = [15, 30, 45, 10]\n",
        "\n",
        "ax.pie(porcentagem, labels = frutas, autopct = '%1.2f%%')\n",
        "\n",
        "#fig.savefig(image_dir/'meu_grafico.png')\n",
        "fig.savefig('meu_grafico.png')\n",
        "\n",
        "\n",
        "#plt.show()"
      ],
      "metadata": {
        "id": "eFrGB0hhcEDS"
      },
      "execution_count": null,
      "outputs": []
    },
    {
      "cell_type": "code",
      "source": [
        "import matplotlib.pyplot as plt\n",
        "from pathlib import Path\n",
        "\n",
        "#image_dir = Path.cwd() / 'images'\n",
        "\n",
        "fig, ax = plt.subplots()\n",
        "\n",
        "frutas = ['Uva', 'Morango', 'Abacaxi', 'Mamão']\n",
        "porcentagem = [15, 30, 45, 10]\n",
        "\n",
        "ax.pie(porcentagem, labels = frutas, autopct = '%1.2f%%')\n",
        "\n",
        "#fig.savefig(image_dir/'meu_grafico.png')\n",
        "fig.savefig('meu_grafico3.jpg', transparent = True, dpi = 150, bbox_inches = 'tight')\n"
      ],
      "metadata": {
        "id": "HRwA2hJZczem"
      },
      "execution_count": null,
      "outputs": []
    }
  ]
}